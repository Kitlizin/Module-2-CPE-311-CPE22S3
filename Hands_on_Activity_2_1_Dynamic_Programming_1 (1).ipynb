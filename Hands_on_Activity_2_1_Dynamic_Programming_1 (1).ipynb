{
  "cells": [
    {
      "cell_type": "markdown",
      "id": "f1c6ec95",
      "metadata": {
        "id": "f1c6ec95"
      },
      "source": [
        "# Hands-on Activity 2.1 : Dynamic Programming"
      ]
    },
    {
      "cell_type": "markdown",
      "id": "56dacba1",
      "metadata": {
        "id": "56dacba1"
      },
      "source": [
        "#### Objective(s):\n",
        "\n",
        "This activity aims to demonstrate how to use dynamic programming to solve problems."
      ]
    },
    {
      "cell_type": "markdown",
      "id": "e51f84e3",
      "metadata": {
        "id": "e51f84e3"
      },
      "source": [
        "#### Intended Learning Outcomes (ILOs):\n",
        "* Differentiate recursion method from dynamic programming to solve problems.\n",
        "* Demonstrate how to  solve real-world problems using dynamic programming\n"
      ]
    },
    {
      "cell_type": "markdown",
      "id": "39047b1a",
      "metadata": {
        "id": "39047b1a"
      },
      "source": [
        "#### Resources:\n",
        "* Jupyter Notebook\n"
      ]
    },
    {
      "cell_type": "markdown",
      "id": "cb5360c0",
      "metadata": {
        "id": "cb5360c0"
      },
      "source": [
        "#### Procedures:"
      ]
    },
    {
      "cell_type": "markdown",
      "id": "206a914c",
      "metadata": {
        "id": "206a914c"
      },
      "source": [
        "1. Create a code that demonstrate how to use recursion method to solve problem"
      ]
    },
    {
      "cell_type": "markdown",
      "id": "5744a876",
      "metadata": {
        "id": "5744a876"
      },
      "source": [
        "2. Create a program codes that demonstrate how to use dynamic programming to solve the same problem"
      ]
    },
    {
      "cell_type": "markdown",
      "id": "8e3f6572",
      "metadata": {
        "id": "8e3f6572"
      },
      "source": [
        "##### Question:\n",
        "Explain the difference of using the recursion from dynamic programming using the given sample codes to solve the same problem"
      ]
    },
    {
      "cell_type": "markdown",
      "id": "b5a71b53",
      "metadata": {
        "id": "b5a71b53"
      },
      "source": [
        "Type your answer here: For me, dynamic programming is preferable to recursion because it minimizes repetition, writes code that is easier to comprehend, and is more simplified than recursion.\n",
        "\n",
        "\n",
        "\n"
      ]
    },
    {
      "cell_type": "markdown",
      "id": "60074702",
      "metadata": {
        "id": "60074702"
      },
      "source": [
        "3. Create a sample program codes to simulate bottom-up dynamic programming"
      ]
    },
    {
      "cell_type": "markdown",
      "id": "e629eb89",
      "metadata": {
        "id": "e629eb89"
      },
      "source": [
        "4. Create a sample program codes that simulate tops-down dynamic programming"
      ]
    },
    {
      "cell_type": "markdown",
      "id": "c2e2434c",
      "metadata": {
        "id": "c2e2434c"
      },
      "source": [
        "#### Question:\n",
        " Explain the difference between bottom-up from top-down dynamic programming using the given sample codes"
      ]
    },
    {
      "cell_type": "markdown",
      "id": "ac97e063",
      "metadata": {
        "id": "ac97e063"
      },
      "source": [
        "Type your answer here: Top-down starts by solving the big problem into smaller ones and stores solutions for later, preventing repetitive work. It uses recursion and a table to keep track of these solutions. On the other hand, the bottom-up approach starts from the smallest problems and builds up to the big one, using iteration and a table to store intermediate results, skipping the recursion.\n",
        "\n",
        "\n",
        "\n",
        "\n",
        "\n",
        "\n"
      ]
    },
    {
      "cell_type": "markdown",
      "id": "f7a5bfbd",
      "metadata": {
        "id": "f7a5bfbd"
      },
      "source": [
        "0/1 Knapsack Problem\n",
        "\n",
        "* Analyze three different techniques to solve knapsacks problem\n",
        "1. Recursion\n",
        "2. Dynamic Programming\n",
        "3. Memoization"
      ]
    },
    {
      "cell_type": "code",
      "source": [
        "#sample code for knapsack problem using recursion\n",
        "def rec_knapSack(w, wt, val, n):\n",
        "\n",
        "  #base case\n",
        "  #defined as nth item is empty;\n",
        "  #or the capacity w is 0\n",
        "  if n == 0 or w == 0:\n",
        "    return 0\n",
        "\n",
        "  #if weight of the nth item is more than\n",
        "  #the capacity W, then this item cannot be included\n",
        "  #as part of the optimal solution\n",
        "  if(wt[n-1] > w):\n",
        "    return rec_knapSack(w, wt, val, n-1)\n",
        "\n",
        "  #return the maximum of the two cases:\n",
        "  # (1) include the nth item\n",
        "  # (2) don't include the nth item\n",
        "  else:\n",
        "    return max(\n",
        "        val[n-1] + rec_knapSack(\n",
        "            w-wt[n-1], wt, val, n-1),\n",
        "            rec_knapSack(w, wt, val, n-1)\n",
        "    )"
      ],
      "metadata": {
        "id": "15SVHF85_1Ji"
      },
      "id": "15SVHF85_1Ji",
      "execution_count": null,
      "outputs": []
    },
    {
      "cell_type": "code",
      "source": [
        "#To test:\n",
        "val = [60, 100, 120] #values for the items\n",
        "wt = [10, 20, 30] #weight of the items\n",
        "w = 50 #knapsack weight capacity\n",
        "n = len(val) #number of items\n",
        "\n",
        "rec_knapSack(w, wt, val, n)"
      ],
      "metadata": {
        "colab": {
          "base_uri": "https://localhost:8080/"
        },
        "id": "b1D3YRJ7cMqU",
        "outputId": "884aea0e-4c4c-4268-c847-8dbb2739ebf6"
      },
      "id": "b1D3YRJ7cMqU",
      "execution_count": null,
      "outputs": [
        {
          "output_type": "execute_result",
          "data": {
            "text/plain": [
              "220"
            ]
          },
          "metadata": {},
          "execution_count": 40
        }
      ]
    },
    {
      "cell_type": "code",
      "source": [
        "#Dynamic Programming for the Knapsack Problem\n",
        "def DP_knapSack(w, wt, val, n):\n",
        "  #create the table\n",
        "  table = [[0 for x in range(w+1)] for x in range (n+1)]\n",
        "\n",
        "  #populate the table in a bottom-up approach\n",
        "  for i in range(n+1):\n",
        "    for w in range(w+1):\n",
        "      if i == 0 or w == 0:\n",
        "        table[i][w] = 0\n",
        "      elif wt[i-1] <= w:\n",
        "        table[i][w] = max(val[i-1] + table[i-1][w-wt[i-1]],\n",
        "                          table[i-1][w])\n",
        "  return table[n][w]"
      ],
      "metadata": {
        "id": "A8OU1sUJ_1ES"
      },
      "id": "A8OU1sUJ_1ES",
      "execution_count": null,
      "outputs": []
    },
    {
      "cell_type": "code",
      "source": [
        "#To test:\n",
        "val = [60, 100, 120]\n",
        "wt = [10, 20, 30]\n",
        "w = 50\n",
        "n = len(val)\n",
        "\n",
        "DP_knapSack(w, wt, val, n)"
      ],
      "metadata": {
        "colab": {
          "base_uri": "https://localhost:8080/"
        },
        "id": "GUNeEPHrd-N1",
        "outputId": "87622250-a11d-4a91-c650-cdeadedac528"
      },
      "id": "GUNeEPHrd-N1",
      "execution_count": null,
      "outputs": [
        {
          "output_type": "execute_result",
          "data": {
            "text/plain": [
              "220"
            ]
          },
          "metadata": {},
          "execution_count": 19
        }
      ]
    },
    {
      "cell_type": "code",
      "source": [
        "#Sample for top-down DP approach (memoization)\n",
        "#initialize the list of items\n",
        "prior = [2, 3, 1]\n",
        "val = [60, 100, 120]\n",
        "wt = [10, 20, 30]\n",
        "w = 50\n",
        "n = len(val)\n",
        "\n",
        "#initialize the container for the values that have to be stored\n",
        "#values are initialized to -1\n",
        "calc =[[-1 for i in range(w+1)] for j in range(n+1)]\n",
        "\n",
        "\n",
        "def mem_knapSack(wt, val, w, n, prior):\n",
        "  #base conditions\n",
        "  if n == 0 or w == 0:\n",
        "    return 0\n",
        "  if calc[n][w] != -1:\n",
        "    return calc[n][w]\n",
        "\n",
        "  #compute for the other cases\n",
        "  if wt[n-1] <= w:\n",
        "    calc[n][w] = max(val[n-1] + mem_knapSack(wt, val, w-wt[n-1], n-1, prior),\n",
        "                     mem_knapSack(wt, val, w, n-1, prior))\n",
        "    return calc[n][w]\n",
        "  elif wt[n-1] > w:\n",
        "    calc[n][w] = mem_knapSack(wt, val, w, n-1, prior)\n",
        "    return calc[n][w]\n",
        "\n",
        "mem_knapSack(wt, val, w, n, prior)"
      ],
      "metadata": {
        "id": "VgwTX-XT_0_h",
        "colab": {
          "base_uri": "https://localhost:8080/"
        },
        "outputId": "de142f1f-add4-4172-d307-f439541871d2"
      },
      "id": "VgwTX-XT_0_h",
      "execution_count": null,
      "outputs": [
        {
          "output_type": "execute_result",
          "data": {
            "text/plain": [
              "220"
            ]
          },
          "metadata": {},
          "execution_count": 20
        }
      ]
    },
    {
      "cell_type": "markdown",
      "source": [
        "**Code Analysis**\n",
        "\n",
        "Type your answer here."
      ],
      "metadata": {
        "id": "-UXSSblDcF8T"
      },
      "id": "-UXSSblDcF8T"
    },
    {
      "cell_type": "markdown",
      "source": [
        "## Seatwork 2.1"
      ],
      "metadata": {
        "id": "IGsdUGCUcTFd"
      },
      "id": "IGsdUGCUcTFd"
    },
    {
      "cell_type": "markdown",
      "id": "0462053d",
      "metadata": {
        "id": "0462053d"
      },
      "source": [
        "Task 1: Modify the three techniques to include additional criterion in the knapsack problems"
      ]
    },
    {
      "cell_type": "code",
      "source": [
        "#type your code here\n",
        "\n",
        "#Recursion\n",
        "def rec_knapSack(w, wt, val, n, prior):\n",
        "\n",
        "  #base case\n",
        "  #defined as nth item is empty;\n",
        "  #or the capacity w is 0\n",
        "  if n == 0 or w == 0:\n",
        "    return 0\n",
        "\n",
        "  #if weight of the nth item is more than\n",
        "  #the capacity W, then this item cannot be included\n",
        "  #as part of the optimal solution\n",
        "  if(wt[n-1] > w):\n",
        "    return rec_knapSack(w, wt, val, n-1, prior)\n",
        "\n",
        "  #return the maximum of the two cases:\n",
        "  # (1) include the nth item\n",
        "  # (2) don't include the nth item\n",
        "  else:\n",
        "    return max(\n",
        "        val[n-1] + rec_knapSack(\n",
        "            w-wt[n-1], wt, val, n-1, prior),\n",
        "            rec_knapSack(w, wt, val, n-1, prior)\n",
        "    )\n",
        "\n",
        "#To test:\n",
        "val = [60, 100, 120] #values for the items\n",
        "wt = [10, 20, 30] #weight of the items\n",
        "prior = [1,2,3]\n",
        "w = 50 #knapsack weight capacity\n",
        "n = len(val) #number of items\n",
        "\n",
        "result = rec_knapSack(w, wt, val, n, prior)\n",
        "print(\"Maximum value in the knapsack given its priority rate:\", result)"
      ],
      "metadata": {
        "colab": {
          "base_uri": "https://localhost:8080/"
        },
        "id": "9Kwot9D1xTD_",
        "outputId": "473c4e41-26cb-4871-8369-b9d997536432"
      },
      "id": "9Kwot9D1xTD_",
      "execution_count": null,
      "outputs": [
        {
          "output_type": "stream",
          "name": "stdout",
          "text": [
            "Maximum value in the knapsack given its priority rate: 220\n"
          ]
        }
      ]
    },
    {
      "cell_type": "code",
      "source": [
        "#Dynamic\n",
        "def DP_knapSack(w, wt, val, n, prior):\n",
        "  #create the table\n",
        "  table = [[0 for x in range(w+1)] for x in range (n+1)]\n",
        "\n",
        "  #populate the table in a bottom-up approach\n",
        "  for i in range(n+1):\n",
        "    for w in range(w+1):\n",
        "      if i == 0 or w == 0:\n",
        "        table[i][w] = 0\n",
        "      elif wt[i-1] <= w:\n",
        "        table[i][w] = max(val[i-1] + table[i-1][w-wt[i-1]],\n",
        "                          table[i-1][w])\n",
        "  return table[n][w]"
      ],
      "metadata": {
        "id": "kacBH_tNaAEl"
      },
      "id": "kacBH_tNaAEl",
      "execution_count": null,
      "outputs": []
    },
    {
      "cell_type": "code",
      "source": [
        "#To test:\n",
        "val = [60, 100, 120]\n",
        "wt = [10, 20, 30]\n",
        "prior = [2,3,1]\n",
        "w = 50\n",
        "n = len(val)\n",
        "\n",
        "result = DP_knapSack(w, wt, val, n, prior)\n",
        "\n",
        "print(\"Maximum value in the knapsack given its priority rate:\", result)"
      ],
      "metadata": {
        "colab": {
          "base_uri": "https://localhost:8080/"
        },
        "id": "6VCyXDyQaBrT",
        "outputId": "80d7e64b-763d-4da1-c89f-29585d8f57e7"
      },
      "id": "6VCyXDyQaBrT",
      "execution_count": null,
      "outputs": [
        {
          "output_type": "stream",
          "name": "stdout",
          "text": [
            "Maximum value in the knapsack given its priority rate: 220\n"
          ]
        }
      ]
    },
    {
      "cell_type": "code",
      "source": [
        "# Memoization\n",
        "#initialize the list of items\n",
        "prior = [2, 3, 1]\n",
        "val = [60, 100, 120]\n",
        "wt = [10, 20, 30]\n",
        "w = 50\n",
        "n = len(val)\n",
        "\n",
        "#initialize the container for the values that have to be stored\n",
        "#values are initialized to -1\n",
        "calc =[[-1 for i in range(w+1)] for j in range(n+1)]\n",
        "\n",
        "\n",
        "def mem_knapSack(wt, val, w, n, prior):\n",
        "  #base conditions\n",
        "  if n == 0 or w == 0:\n",
        "    return 0\n",
        "  if calc[n][w] != -1:\n",
        "    return calc[n][w]\n",
        "\n",
        "  #compute for the other cases\n",
        "  if wt[n-1] <= w:\n",
        "    calc[n][w] = max(val[n-1] + mem_knapSack(wt, val, w-wt[n-1], n-1, prior),\n",
        "                     mem_knapSack(wt, val, w, n-1, prior))\n",
        "    return calc[n][w]\n",
        "  elif wt[n-1] > w:\n",
        "    calc[n][w] = mem_knapSack(wt, val, w, n-1, prior)\n",
        "    return calc[n][w]\n",
        "\n",
        "result = mem_knapSack(wt, val, w, n, prior)\n",
        "print(\"Maximum value in the knapsack given its priority rate:\", result)"
      ],
      "metadata": {
        "colab": {
          "base_uri": "https://localhost:8080/"
        },
        "id": "6nFqPA_PeHPH",
        "outputId": "641caccc-e347-4d88-d5db-ec29b1b3c79e"
      },
      "id": "6nFqPA_PeHPH",
      "execution_count": null,
      "outputs": [
        {
          "output_type": "stream",
          "name": "stdout",
          "text": [
            "Maximum value in the knapsack given its priority rate: 220\n"
          ]
        }
      ]
    },
    {
      "cell_type": "markdown",
      "id": "d97e864e",
      "metadata": {
        "id": "d97e864e"
      },
      "source": [
        "Fibonacci Numbers"
      ]
    },
    {
      "cell_type": "code",
      "source": [
        "def FIBMemo(N, Memo):\n",
        "    if N == 1:\n",
        "        return 0\n",
        "    if N == 2:\n",
        "        return 1\n",
        "    if N not in Memo:\n",
        "        Memo[N] = FIBMemo(N-1, Memo) + FIBMemo(N-2, Memo)\n",
        "    return Memo[N]\n",
        "\n",
        "MemoDict = {}\n",
        "FIBMemo(10, MemoDict)\n",
        "\n",
        "print(\"Fibonacci Series:\")\n",
        "print(\"0\")\n",
        "print(\"1\")\n",
        "for element in MemoDict.values():\n",
        "    print(element)"
      ],
      "metadata": {
        "id": "HoqkUdvj_2ZZ",
        "colab": {
          "base_uri": "https://localhost:8080/"
        },
        "outputId": "ff75ded4-da7b-4a9c-c1c3-5cec7ba1c5cf"
      },
      "id": "HoqkUdvj_2ZZ",
      "execution_count": null,
      "outputs": [
        {
          "output_type": "stream",
          "name": "stdout",
          "text": [
            "Fibonacci Series:\n",
            "0\n",
            "1\n",
            "1\n",
            "2\n",
            "3\n",
            "5\n",
            "8\n",
            "13\n",
            "21\n",
            "34\n"
          ]
        }
      ]
    },
    {
      "cell_type": "markdown",
      "id": "f44e88aa",
      "metadata": {
        "id": "f44e88aa"
      },
      "source": [
        "Task 2: Create a sample program that find the nth number of Fibonacci Series using Dynamic Programming"
      ]
    },
    {
      "cell_type": "code",
      "execution_count": null,
      "id": "745871be",
      "metadata": {
        "id": "745871be",
        "colab": {
          "base_uri": "https://localhost:8080/"
        },
        "outputId": "1a7325aa-e4ad-488d-dc23-a23ea927c678"
      },
      "outputs": [
        {
          "output_type": "stream",
          "name": "stdout",
          "text": [
            "9th Fibonacci Number is 34\n"
          ]
        }
      ],
      "source": [
        "#type your code here\n",
        "\n",
        "def FibDy(n):\n",
        "    fib = [0, 1]\n",
        "    for i in range(2, n+1):\n",
        "      fib.append(fib[i-1] + fib[i-2])\n",
        "    return fib[n]\n",
        "\n",
        "n = 9\n",
        "result = FibDy(n)\n",
        "print(f\"{n}th Fibonacci Number is {result}\")"
      ]
    },
    {
      "cell_type": "markdown",
      "id": "070ddd75",
      "metadata": {
        "id": "070ddd75"
      },
      "source": [
        "## Supplementary Problem (HOA 2.1 Submission):\n",
        "* Choose a real-life problem\n",
        "* Use recursion and dynamic programming to solve the problem"
      ]
    },
    {
      "cell_type": "markdown",
      "source": [
        "# Problem:\n",
        "My real-world problem that I chose that solves knapsacks problem is list of tutoring subjects with their corresponding salary and hours. The concept is this will compute the maximum salary a tutor can earn given a maximum number of hours they can work and lists of subjects with their respective salaries and hours."
      ],
      "metadata": {
        "id": "B-BfuPYOQ3vU"
      },
      "id": "B-BfuPYOQ3vU"
    },
    {
      "cell_type": "code",
      "source": [
        "#type your code here for recursion programming solution\n",
        "def tutor_val(w, subjects, salaries, hours, n):\n",
        "    # Base case: If no subjects are left or the available hours are 0\n",
        "    if n == 0 or w == 0:\n",
        "        return 0\n",
        "\n",
        "    # If the hours required for the nth subject exceed the available hours,\n",
        "    # it cannot be included\n",
        "    if hours[n - 1] > w:\n",
        "        return tutor_val(w, subjects, salaries, hours, n - 1)\n",
        "\n",
        "    # Return the maximum of two cases:\n",
        "    # 1. Including the nth subject\n",
        "    # 2. Excluding the nth subject\n",
        "    else:\n",
        "        return max(\n",
        "            salaries[n - 1] + tutor_val(\n",
        "                w - hours[n - 1], subjects, salaries, hours, n - 1\n",
        "            ),\n",
        "            tutor_val(w, subjects, salaries, hours, n - 1),\n",
        "        )\n",
        "\n",
        "# Data\n",
        "TutorSubjects = ['Filipino', 'English', 'Differential Equation', 'General Education',\n",
        "                 'Algebra', 'Science', 'Calculus', 'Discrete Math', 'Statistics', 'Economics']\n",
        "hours = [2, 4, 6, 2, 3, 4, 6, 3, 5, 2]\n",
        "salaries = [500, 700, 1000, 500, 600, 700, 1000, 900, 800, 500]\n",
        "\n",
        "# Build the menu\n",
        "tutorVal = tutor_val(10, TutorSubjects, salaries, hours, len(TutorSubjects))\n",
        "print(\"Maximum Salary:\", tutorVal)"
      ],
      "metadata": {
        "colab": {
          "base_uri": "https://localhost:8080/"
        },
        "id": "1-WPpcm1dJz0",
        "outputId": "ce8702ab-585e-4430-ef8e-450552235d68"
      },
      "id": "1-WPpcm1dJz0",
      "execution_count": null,
      "outputs": [
        {
          "output_type": "stream",
          "name": "stdout",
          "text": [
            "Maximum Salary: 2500\n"
          ]
        }
      ]
    },
    {
      "cell_type": "code",
      "execution_count": null,
      "id": "73b071b6",
      "metadata": {
        "id": "73b071b6",
        "colab": {
          "base_uri": "https://localhost:8080/"
        },
        "outputId": "531e4434-b63b-411a-be70-81b1ee6a80b3"
      },
      "outputs": [
        {
          "output_type": "stream",
          "name": "stdout",
          "text": [
            "Maximum Salary: 2500\n"
          ]
        }
      ],
      "source": [
        "#type your code here for dynamic programming solution\n",
        "def tutorSchedule(max_hours, hours, salaries):\n",
        "    n = len(hours)\n",
        "    # Create the table\n",
        "    table = [[0 for _ in range(max_hours + 1)] for _ in range(n + 1)]\n",
        "\n",
        "    # Populate the table in a bottom-up approach\n",
        "    for i in range(1, n + 1):\n",
        "        for j in range(1, max_hours + 1):\n",
        "            if hours[i - 1] <= j:\n",
        "                table[i][j] = max(salaries[i - 1] + table[i - 1][j - hours[i - 1]], table[i - 1][j])\n",
        "            else:\n",
        "                table[i][j] = table[i - 1][j]\n",
        "\n",
        "    # Return the total maximum salary\n",
        "    return table[n][max_hours]\n",
        "\n",
        "# Data\n",
        "hours = [2, 4, 6, 2, 3, 4, 6, 3, 5, 2]\n",
        "salaries = [500, 700, 1000, 500, 600, 700, 1000, 900, 800, 500]\n",
        "max_hours = 10  # Maximum hours a tutor can work\n",
        "\n",
        "# Call the function\n",
        "max_salary = tutorSchedule(max_hours, hours, salaries)\n",
        "\n",
        "# Print Output\n",
        "print(\"Maximum Salary:\", max_salary)"
      ]
    },
    {
      "cell_type": "markdown",
      "id": "bb0ed6a9",
      "metadata": {
        "id": "bb0ed6a9"
      },
      "source": [
        "#### Conclusion"
      ]
    },
    {
      "cell_type": "markdown",
      "source": [
        "Using dynamic programming and recursion to address real-world problems, I was able to differentiate the recursion approach from dynamic programming in this hands-on activity. I utilized my actual word problem from the previous hands-on activity in the supplementary part, which helped me better comprehend the dynamic and recursive methods."
      ],
      "metadata": {
        "id": "Glgf6Dswuj6U"
      },
      "id": "Glgf6Dswuj6U"
    }
  ],
  "metadata": {
    "kernelspec": {
      "display_name": "Python 3",
      "language": "python",
      "name": "python3"
    },
    "language_info": {
      "codemirror_mode": {
        "name": "ipython",
        "version": 3
      },
      "file_extension": ".py",
      "mimetype": "text/x-python",
      "name": "python",
      "nbconvert_exporter": "python",
      "pygments_lexer": "ipython3",
      "version": "3.7.10"
    },
    "colab": {
      "provenance": []
    }
  },
  "nbformat": 4,
  "nbformat_minor": 5
}